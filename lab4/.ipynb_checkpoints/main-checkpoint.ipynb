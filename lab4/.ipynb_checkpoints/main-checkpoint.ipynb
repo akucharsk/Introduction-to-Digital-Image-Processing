{
 "cells": [
  {
   "cell_type": "markdown",
   "metadata": {
    "id": "Q7xyi7-phWUP"
   },
   "source": [
    "# Binaryzacja\n",
    "\n",
    "\n",
    "### Cel:\n",
    "- zapoznanie z segmentacją obiektów poprzez binaryzację,\n",
    "- zapoznanie z binaryzacją na podstawie histogramu (globalną),\n",
    "- zapoznanie z metodami automatycznego wyznaczania progu Ots'u, Kitller'a i Kapur'a,\n",
    "- zapoznanie z binaryzacją lokalną (na podstawie średniej i metodą Sauvola),\n",
    "- zapoznanie z binaryzacją dwuprogową,\n",
    "- zadanie domowe: zapoznanie z adaptacyjną binaryzacją lokalną.\n",
    "\n",
    "### Binaryzacja - wprowadzenie\n",
    "\n",
    "Jednym z najważniejszych etapów podczas analizy obrazów jest segmentacja -- podział obrazu na rejony według pewnego kryterium  -- jasności, koloru, tekstury.\n",
    "Najprostszą (i też najczęściej wykorzystywaną) metodą segmentacji jest **binaryzacja**. \n",
    "Do jej głównych zalet zalicza się: intuicyjność, prostotę, łatwość implementacji i szybkość wykonywania. \n",
    "Jest ona etapem wielu algorytmów analizy obrazów. \n",
    "Pozwala na znaczną redukcję informacji w obrazie (np. dla wejściowego obrazu w skali szarości z zakresu 0-255 do 0-1).\n",
    " \n",
    "Binaryzacja najczęściej realizowana jest poprzez progowanie. \n",
    "Na przykład: dla obrazu w odcieniach szarości ustala się próg na poziomie $k$. \n",
    "Wszystkie piksele o wartości (jasności) większej od $k$ zostają uznane za obiekty, a pozostałe za tło. \n",
    "Oczywiście podejście takie daje się zastosować wtedy, gdy obiekty mają istotnie różną jasność od otaczającego je tła.\n"
   ]
  },
  {
   "cell_type": "markdown",
   "metadata": {
    "id": "uSiKTJUrhWUT"
   },
   "source": [
    "### Binaryzacja na podstawie histogramu\n",
    "\n",
    "W rozdziale zostanie zademonstrowane wyznaczanie progu na podstawie \"ręcznej\" analizy histogramu oraz wpływ szumu i niejednorodnego oświetlenia sceny na proces binaryzacji.\n",
    "\n",
    "1. Potrzebne w ćwiczeniu moduły są już wpisane - zwróć uwagę pod jakimi nazwami będą one widziane (plt, cv2, np).\n",
    "\n",
    "2. Wczytaj obraz _coins.png_ w trybie odcieni szarości. Wyświetl go. \n",
    "Wyznacz jego histogram (funkcja `np.histogram` lub 'cv2.calcHist') i wyświetl go.\n",
    "Przy wyświetlaniu histogramu warto zwiększyć liczbę wyświetlanych wartości na osi x oraz powiększyć sam wykres (funkcje *plt.xticks(np.arange(0, 256, 20.0))* oraz *plt.rcParams[\"figure.figsize\"] = (10,5)*.\n",
    "Uwaga. Proszę powyższą funkcjonalność zaimplementować jako funkcję, gdyż przyda się w dalszej części ćwiczenia.\n",
    "      \n"
   ]
  },
  {
   "cell_type": "code",
   "execution_count": null,
   "metadata": {
    "ExecuteTime": {
     "end_time": "2024-12-11T05:17:00.595013Z",
     "start_time": "2024-12-11T05:17:00.591674Z"
    },
    "id": "Fm3UZfVHhWUU"
   },
   "outputs": [],
   "source": [
    "import cv2\n",
    "import os\n",
    "import requests\n",
    "from matplotlib import pyplot as plt\n",
    "import numpy as np\n",
    "\n",
    "url = 'https://raw.githubusercontent.com/vision-agh/poc_sw/master/04_Thresholding/'\n",
    "\n",
    "fileNames = [\"coins.png\", \"rice.png\", \"catalogue.png\", \"bart.png\", \"figura1.png\", \"figura2.png\", \"figura3.png\", \"figura4.png\", \"T.png\"]\n",
    "for fileName in fileNames:\n",
    "  if not os.path.exists(fileName):\n",
    "      r = requests.get(url + fileName, allow_redirects=True)\n",
    "      open(fileName, 'wb').write(r.content)"
   ]
  },
  {
   "cell_type": "markdown",
   "metadata": {
    "id": "of5GeSFVhWUW"
   },
   "source": [
    "3. Wizualna analiza histogramu pozwala zauważyć dwa maksima - jedno odpowiadające poziomowi jasności tła (które w tym przypadku jest względnie jednolite - ciemnoszare) i drugie odpowiadające monetom.\n",
    "\n",
    "Na podstawie histogramu wyznacz próg i wykonaj binaryzację:\n",
    "- wykorzystaj fakt, że dla macierzy *numpy* można wykonać operację porównania wszystkich jej wartości z liczbą  - wynikiem jest macierz zawierająca wartości *True* i *False*, którą można przekonwertować metodą macierz.astype(np.int) na macierz z wartościami 1 i 0 (aczkolwiek nie jest to tu konieczne).\n",
    "- wynik binaryzacji wyświetl,\n",
    "- spróbuj dobrać jak najlepszy próg binaryzacji. Jako \"kryterium jakości\" przyjmij kształty monet - dla poprawnie dobranego progu powinny to być wypełnione koła.\n",
    "\n",
    "Uwaga. Proszę powyższą funkcjonalność zaimplementować jako funkcję, gdyż przyda się w dalszej części ćwiczenia."
   ]
  },
  {
   "cell_type": "code",
   "execution_count": null,
   "metadata": {
    "ExecuteTime": {
     "end_time": "2024-12-11T05:17:01.023201Z",
     "start_time": "2024-12-11T05:17:00.644070Z"
    },
    "id": "CNaudNIHhWUX"
   },
   "outputs": [],
   "source": [
    "coins = cv2.imread('coins.png', cv2.IMREAD_GRAYSCALE)\n",
    "coins_hist = cv2.calcHist([coins], [0], None, [256], [0, 256])\n",
    "\n",
    "def plot_binarization(img, ax, threshold):\n",
    "    binary = np.zeros_like(img)\n",
    "    binary[img > threshold] = 255\n",
    "    ax.imshow(binary, cmap=cmap)\n",
    "    ax.axis('off')\n",
    "    \n",
    "\n",
    "cmap = 'gray'\n",
    "\n",
    "fig, (im, hist) = plt.subplots(1, 2, figsize=(15, 7))\n",
    "im.axis('off')\n",
    "hist.grid()\n",
    "hist.plot(coins_hist)\n",
    "hist.set_xticks(np.arange(0, 256, 20))\n",
    "im.imshow(coins, cmap=cmap)\n",
    "plt.show()\n",
    "coin_max = np.argmax(coins_hist[100:])\n",
    "\n",
    "plot_binarization(coins, plt, coin_max)\n"
   ]
  },
  {
   "cell_type": "markdown",
   "metadata": {
    "id": "2Fpfktw9hWUX"
   },
   "source": [
    "4. Na \"stopień trudności\" przeprowadzenia binaryzacji największy wpływ mają dwa czynniki:\n",
    "- szum,\n",
    "- niejednorodne oświetlenie.\n",
    "\t  \n",
    "Użyj obrazy:\n",
    " - _figura1.png_ (bez zaszumienia),\n",
    " - _figura2.png_ (dodany szum Gaussowski o średniej 0 i odchyleniu standardowym 10),\n",
    " - _figura3.png_ (dodany szum Gaussowski o średniej 0 i odchyleniu standardowym 50),\n",
    " - _figura4.png_ (dodany gradient oświetlenia -- symulacja oświetlenia niejednorodnego) i wyświetl ich histogramy (wykorzystaj funkcję z poprzedniego punktu).\n"
   ]
  },
  {
   "cell_type": "code",
   "execution_count": null,
   "metadata": {
    "ExecuteTime": {
     "end_time": "2024-12-11T05:17:01.420978Z",
     "start_time": "2024-12-11T05:17:01.024468Z"
    },
    "id": "5PVhm3wghWUX"
   },
   "outputs": [],
   "source": [
    "fig1 = cv2.imread('figura1.png', cv2.IMREAD_GRAYSCALE)\n",
    "fig2 = cv2.imread('figura2.png', cv2.IMREAD_GRAYSCALE)\n",
    "fig3 = cv2.imread('figura3.png', cv2.IMREAD_GRAYSCALE)\n",
    "fig4 = cv2.imread('figura4.png', cv2.IMREAD_GRAYSCALE)\n",
    "\n",
    "figs = (fig1, fig2), (fig3, fig4)\n",
    "\n",
    "fig, axes = plt.subplots(2, 2, figsize=(10, 10))\n",
    "\n",
    "for i in range(2):\n",
    "    for j in range(2):\n",
    "        axes[i, j].axis('off')\n",
    "        axes[i, j].imshow(figs[i][j], cmap=cmap)"
   ]
  },
  {
   "cell_type": "markdown",
   "metadata": {
    "id": "BrmKxXmOhWUY"
   },
   "source": [
    "Spróbuj wyznaczyć progi binaryzacji na podstawie wyświetlonych histogramów.\n",
    "Jak dodanie szumu wypłynęło na histogram i łatwość wyznaczania progu binaryzacji?\n",
    "Czy jest to możliwe we wszystkich przypadkach?"
   ]
  },
  {
   "cell_type": "code",
   "execution_count": null,
   "metadata": {
    "ExecuteTime": {
     "end_time": "2024-12-11T05:17:01.831135Z",
     "start_time": "2024-12-11T05:17:01.421958Z"
    },
    "id": "KXSDhgkqhWUY"
   },
   "outputs": [],
   "source": [
    "fig, axes = plt.subplots(2, 2, figsize=(10, 10))\n",
    "\n",
    "def cumulative_hist(histogram):\n",
    "    result = np.cumsum(histogram)\n",
    "    return result / result.max() * histogram.max()\n",
    "\n",
    "for i in range(2):\n",
    "    for j in range(2):\n",
    "        axes[i, j].grid()\n",
    "        axes[i, j].plot(hist := cv2.calcHist([figs[i][j]], [0], None, [256], [0, 256]))\n",
    "        axes[i, j].plot(cumulative_hist(hist))"
   ]
  },
  {
   "cell_type": "code",
   "execution_count": null,
   "metadata": {
    "ExecuteTime": {
     "end_time": "2024-12-11T05:17:02.245763Z",
     "start_time": "2024-12-11T05:17:01.832935Z"
    }
   },
   "outputs": [],
   "source": [
    "thresholds = (125, 125), (125, 50)\n",
    "fig, axes = plt.subplots(2, 2, figsize=(10, 10))\n",
    "for i in range(2):\n",
    "    for j in range(2):\n",
    "        img = figs[i][j].copy()\n",
    "        img[img > thresholds[i][j]] = 255\n",
    "        img[img <= thresholds[i][j]] = 0\n",
    "        axes[i, j].imshow(img, cmap=cmap)\n",
    "        axes[i, j].axis('off')"
   ]
  },
  {
   "cell_type": "markdown",
   "metadata": {
    "id": "nLOovXDHhWUY"
   },
   "source": [
    "### Automatyczne wyznaczanie progu binaryzacji\n",
    "\n",
    "W automatycznym systemie analizy obrazów (działanie bez nadzoru operatora) konieczne jest zastosowanie metody binaryzacji, która w sposób automatyczny wyznacza próg binaryzacji.\n",
    "Oczywiście można sobie wyobrazić użycie stałego progu (np. 10), ale wtedy należy zadbać o niezmienność warunków oświetleniowych, co w niektórych zastosowaniach może być problematyczne.\n",
    "\n",
    "#### Iteracyjne wyznaczenie progu\n",
    "\n",
    "Jednym z najprostszych podejść jest iteracyjna procedura wyliczania progu.\n",
    "Jako pierwsze przybliżenie progu ($k$) przyjmuje się średnia jasność na obrazie.\n",
    "Następnie, na podstawie $k$,  dzieli się obraz na dwa podobrazy $I_0$ i  $I_1$ (dwie klasy $C_0$ i $C_1$).\n",
    "Dla każdego z nich oblicza się średnią jasność: $m_0$ i $m_1$.\n",
    "Jako nowy próg przyjmuje się:\n",
    "\\begin{equation}\n",
    "\\label{eq:thresholding:mean_auto} \\tag{1}\n",
    "k_{new} = \\frac{m_0 + m_1}{2}\n",
    "\\end{equation}\n",
    "Procedurę kontynuuje się do momentu, aż różnica pomiędzy dwoma kolejnymi progami będzie mniejsza niż zadana wartość.\n",
    "\n",
    "\n",
    "**Zadanie: zaimplementować opisany powyżej algorytm.**\n",
    "\n",
    "\n",
    "Jak można zauważyć, do poprawnego działania metody potrzebne będzie obliczanie średniej jasności, również dla pewnych podobrazów.\n",
    "Wykorzystamy do tego znormalizowanych histogram:\n",
    "\\begin{equation}\n",
    "\\label{eq:p_i} \\tag{2}\n",
    "p_i = n_i/N,   \\sum_{i=0}^L p_i = 1\n",
    "\\end{equation}\n",
    "gdzie: $n_i$ liczba pikseli o jasności $i$ ($i = 0,1, ... L-1$) - histogram, $L$ - liczba poziomów jasności, $N$ - liczba pikseli na obrazie ($N = n_0 + n_1 + ... + n_{L-1}$).\n",
    "\n",
    "Jeśli podzielimy obraz na dwie klasy $C_0$ i $C_1$ (tło i obiekty albo obiekty i tło) z progiem podziału oznaczonym jako $k$, to do klasy $C_0$ należeć będą piksele o poziomach $[0,k]$, a do klasy $C1$ piksele o poziomach $[k+1,L-1]$.\n",
    "\n",
    "Wtedy prawdopodobieństwo, że piksel należy do klasy $C_0$ wynosi:\n",
    "\\begin{equation}\n",
    "\\label{eq:P_0} \\tag{3}\n",
    "P_0(k) = \\sum_{i=0}^{k} p_i\n",
    "\\end{equation}\n",
    "\n",
    "Podobnie prawdopodobieństwo, że należy do klasy $C_1$ wynosi:\n",
    "\n",
    "\\begin{equation}\n",
    "\\label{eq:P_1} \\tag{4}\n",
    "P_1(k) = \\sum_{i=k+1}^{L-1} p_i = 1 - P_0(k)\n",
    "\\end{equation}\n",
    "\n",
    "Średnią jasność pikseli należących do klasy $C_0$ można wyznaczyć na podstawie:\n",
    "\n",
    "\\begin{equation}\n",
    "\\label{eq:m_0} \\tag{5}\n",
    "m_0(k) = \\sum_{i=0}^{k} iP(i|C_0)\n",
    "\\end{equation}\n",
    "\n",
    "gdzie: $|$ oznacza prawdopodobieństwo warunkowe, a wyraz $P(i|C_0)$ - prawdopodobieństwo dla wartości $i$ pod warunkiem, że $i$ należy do klasy $C_0$.\n",
    "Równanie to jest szczególnym przypadkiem wykorzystania momentów statystycznych do wyliczania pewnych parametrów statystycznych - w tym przypadku średniej.\n",
    "\n",
    "Wykorzystując regułę Bayesa:\n",
    "\n",
    "\\begin{equation}\n",
    "\\label{eq:P_A_B} \\tag{6}\n",
    "P(A|B) = P(B|A)P(A)/P(B)\n",
    "\\end{equation}\n",
    "możemy zapisać:\n",
    "\n",
    "\\begin{equation}\n",
    "\\label{eq:m_0k} \\tag{7}\n",
    "m_0(k) = \\sum_{i=0}^{k} i P(C_0|i)P(i)/P(C_0)\n",
    "\\end{equation}\n",
    "Wyraz $P(C_0|i) = 1$, gdyż z założenia rozpatrujemy tylko piksele należące do klasy $C_0$.\n",
    "Wyraz $P(i)$ stanowi $i$-ty element znormalizowanego histogramu tj. $P(i) = p_i$, a $P(C_0)$ to prawdopodobieństwo przynależności do klasy $C_0$ określone wcześniej $P(C_0) = P_0(k)$.\n",
    "Ostatecznie możemy więc zapisać:\n",
    "\n",
    "\\begin{equation}\n",
    "\\label{eq:thresholding:meanHistC0} \\tag{8}\n",
    "m_0(k) = \\frac{1}{P_0(k)} \\sum_{i=0}^{k} i p_i\n",
    "\\end{equation}\n",
    "\n",
    "Na podstawie analogicznych rozważań można wyprowadzić wzór na średnią jasności pikseli należących do klasy $C_1$:\n",
    "\\begin{equation}\n",
    "\\label{eq:thresholding:meanHistC1}  \\tag{9}\n",
    "m_1(k) = \\frac{1}{P_1(k)} \\sum_{i=k+1}^{L-1} i p_i\n",
    "\\end{equation}\n",
    "\n",
    "Średnia jasność całego obrazu dana jest zależnością:\n",
    "\\begin{equation}\n",
    "\\label{eq:thresholding:meanHistGlobal} \\tag{10}\n",
    "m_G = \\sum_{i=0}^{L-1} ip_i\n",
    "\\end{equation}\n",
    "\n",
    "\n",
    "1. Wczytaj obraz _coins.png_. Wyświetl go.\n",
    "\n",
    "2. Wylicz histogram i histogram skumulowany (funkcja `np.cumsum`).\n",
    "   Na podstawie zależności (\\ref{eq:thresholding:meanHistGlobal}) wylicz średnią - pierwszy próg podziału $k$.\n",
    "   Uwagi:\n",
    "   - przed dalszymi obliczeniami dobrze jest usunąć zbędny wymiar tablicy z histogramem - polecenie `np.squeeze`\n",
    "    - $p_i$ to nasz znormalizowany histogram, a wartości od $0$ do $255$ można wygenerować poleceniem `np.arange(256)`,\n",
    "    - zmiast pętli `for` można wykorzystać iloczyn sklarny dwóch wektorów tj. `np.dot`.\n",
    "\n",
    "3.  W nieskończonej petli `while` wykonaj następujące kroki:\n",
    "- oblicz średnią $m_0$ -- zależność (\\ref{eq:thresholding:meanHistC0}):\n",
    "    - dla $P_0$ wystarczy wykorzystać odpowiednią wartość znormalizowanego histogramu skumulowanego, dla pozostałej części wyrażenia podobne rozwiązanie jak dla pierwszej średniej,\n",
    "- oblicz średnią $m_1$ -- zależność (\\ref{eq:thresholding:meanHistC1}),\n",
    "- oblicz nowy próg $k_{new}$ -- zależność (\\ref{eq:thresholding:mean_auto}),\n",
    "- oblicz moduł z różnicy pomiędzy $k_{new}$, a $k$ i sprawdź czy jest mniejszy od progu (np. $1$),\n",
    "- jeśli tak to zakończ obliczenia (`break`), jeśli nie to przypisz $k = k_{new}$ i kontynuuj obliczenia,\n",
    "- wyświetl próg oraz wynik binaryzacji.\n",
    "\n",
    "4. Sprawdz jak metoda dziala na obrazach _figura1.png_ do _figura4.png_. "
   ]
  },
  {
   "cell_type": "code",
   "execution_count": null,
   "metadata": {
    "ExecuteTime": {
     "end_time": "2024-12-11T05:17:02.544873Z",
     "start_time": "2024-12-11T05:17:02.246972Z"
    },
    "id": "Vpv_w4FshWUZ",
    "pycharm": {
     "name": "#%%\n"
    }
   },
   "outputs": [],
   "source": [
    "def mean_light(image):\n",
    "    hist = cv2.calcHist([image], [0], None, [256], [0, 256])\n",
    "    cumulative = cumulative_hist(hist)\n",
    "    \n",
    "    N = image.size\n",
    "    probs = hist.squeeze() / N\n",
    "        \n",
    "    k = np.dot(np.arange(256), probs).astype(np.int8).squeeze()\n",
    "    return k, probs\n",
    "\n",
    "def good_binarization(image, ax=plt):\n",
    "    k, probs = mean_light(image)\n",
    "    tolerance = 1\n",
    "    while True:\n",
    "        P_0 = np.sum(probs[:k])\n",
    "        P_1 = 1 - P_0\n",
    "        m_0 = 1 / P_0 * np.dot(np.arange(k), probs[:k])\n",
    "        m_1 = 1 / P_1 * np.dot(np.arange(k, 256), probs[k:])\n",
    "        k_new = int((m_0 + m_1) / 2)\n",
    "    \n",
    "        if np.abs(k_new - k) < tolerance:\n",
    "            break\n",
    "    \n",
    "        k = k_new\n",
    "\n",
    "    plot_binarization(image, ax, k)\n",
    "\n",
    "good_binarization(coins)\n",
    "plt.show()\n",
    "fig, ((ax1, ax2), (ax3, ax4)) = plt.subplots(2, 2, figsize=(10, 10))\n",
    "good_binarization(figs[0][0], ax1)\n",
    "good_binarization(figs[0][1], ax2)\n",
    "good_binarization(figs[1][0], ax3)\n",
    "good_binarization(figs[1][1], ax4)\n",
    "plt.show()"
   ]
  },
  {
   "cell_type": "markdown",
   "metadata": {
    "collapsed": false,
    "id": "D5QX7WA6hWUa",
    "jupyter": {
     "outputs_hidden": false
    }
   },
   "source": [
    "#### Metoda Otsu\n",
    "\n",
    "Jednym z częściej wykorzystywanych algorytmów wyznaczania progu jest metoda zaproponowana w roku 1979 przez Nobuyuki Otsu w artykule pt. \"A Threshold Selection Method from Gray-Level Histograms\" (można odszukać na IEEE Xplore).\n",
    "W algorytmie zakłada się, że obraz zawiera piksele należące do dwóch klas (obiektów i tła) tj. histogram obrazu jest bi-modalny (ma dwa maksima).\n",
    "Próg podziału obliczany jest tak, aby wariancja międzyklasowa była maksymalna.\n",
    "W tym sensie metodę Otsu można nazwać optymalną.\n",
    "\n",
    "Wprowadźmy teraz wskaźnik \"jakości\" wybranego progu podziału $k$, który będziemy optymalizować.\n",
    "W algorytmie Otsu jest to:\n",
    "\n",
    "\\begin{equation}\n",
    "\\label{eq:thresholding:otsu:eta} \\tag{11}\n",
    "\\eta(k) = \\frac{\\sigma^2_B(k)}{\\sigma^2_G}\n",
    "\\end{equation}\n",
    "gdzie:  $\\sigma^2_G$ - wariancja globalna, która może zostać obliczona na podstawie momentów statystycznych jako:\n",
    "\n",
    "\\begin{equation}\n",
    "\\label{eq:sigma} \\tag{12}\n",
    "\\sigma^2_G =  \\sum_{i=0}^{L-1} (i - m_G)^2 p_i\n",
    "\\end{equation}\n",
    "a $\\sigma^2_B$ jest wariancją międzyklasową, która jest zdefiniowana jako:\n",
    "\\begin{equation}\n",
    "\\label{eq:sigma_b} \\tag{13}\n",
    "\\sigma^2_B(k) =  P_0(k)(m_0(k) - m_G)^2 + P_1(k)(m_1(k) - m_G)^2\n",
    "\\end{equation}\n",
    "Równianie to można również przekształcić do:\n",
    "\\begin{equation}\n",
    "\\label{eq:thresholding:otsu:sigma_B_2} \\tag{14}\n",
    "\\sigma^2_B(k) =  P_0(k)P_1(k)(m_0(k) - m_1(k))^2 = \\frac{(m_G P_0(k) - m(k) )^2}{P_0(k)(1-P_0(k))}\n",
    "\\end{equation}\n",
    "gdzie:\n",
    "\\begin{equation}\n",
    "\\label{eq:mk} \\tag{15}\n",
    "m(k) = \\sum_{i=0}^{k} i p_i\n",
    "\\end{equation}\n",
    "\n",
    "Taki zapis pozwala przyspieszyć obliczenia.\n",
    "Wartość $m_G$ wyznaczana jest jednokrotnie, a zachodzi tylko potrzeba obliczania $m(k)$ i $P_0(k)$ w każdej iteracji.\n",
    "Warto też zwrócić uwagę, że równanie ma sens dla $P_0 > 0$.\n",
    "\n",
    "Warto zauważyć, że z postaci równania (\\ref{eq:thresholding:otsu:sigma_B_2}) wynika, że im większa odległość pomiędzy średnimi $m_0$ i $m_1$ tym wartość wariancji międzyklasowej jest większa.\n",
    "Pokazuje to, że przyjęty współczynniki może być podstawą do separacji dwóch klas - im jego wartość jest większa, tym lepsze rozdzielenie.\n",
    "Dodatkowo, z równania (\\ref{eq:thresholding:otsu:eta}) wynika, że $\\eta(k)$ zależy tylko od wariancji międzyklasowej $\\sigma^2_B(k)$, gdyż wariancja globalna $\\sigma^2_G$ jest stała.\n",
    "Zatem w procesie optymalizacji należy dążyć do maksymalizacji wskaźnika $\\eta$.\n",
    "\n",
    "Należy też pamiętać, że współczynnik jest poprawnie określony tylko dla wartości $\\sigma^2_G > 0$.\n",
    "Przy czym, wartość $0$ może on przyjąć tylko dla obrazu o jednym poziomie szarości - w takim przypadku trudno mówić o podziale pikseli na dwie klasy (skoro występuje tylko jedna).\n",
    "\n",
    "Ostatecznie optymalny próg binaryzacji $\\bar{k}$ wyliczamy na podstawie zależności:\n",
    "\\begin{equation}\n",
    "\\label{eq:sigma_B_k} \\tag{16}\n",
    "\\sigma^2_B(\\bar{k}) \\max\\limits_{k \\in[0,L-1]} {\\sigma^2_B(k) }\n",
    "\\end{equation}\n",
    "\n",
    "Uwagi:\n",
    "- może się zdarzyć, że znajdziemy więcej niż jedno maksimum tj. więcej wartości $\\bar{k}$.\n",
    "  W takim przypadku zwykle zakłada się, że próg będzie średnią otrzymanych wartości.\n",
    "- liczby $P_0(\\bar{k})$ i $P_1(\\bar{k})$ odpowiadają powierzchni zajmowanej przez obiekty klas $C_0$ i $C_1$.\n",
    "- liczby $m_0(\\bar{k})$ i $m_1(\\bar{k})$ odpowiadają średniej jasności obiektów klas $C_0$ i $C_1$.\n",
    "- wartość parametru $\\eta(\\bar{k})$ określa \"jakość\" wyznaczonego progu -- im większa tym lepiej.\n",
    "\n",
    "Zadanie: wykorzystując podane powyżej informacje należy zaimplementować metodę wyznaczania progu binaryzacji zaproponowaną przez Otsu.\n",
    "\n",
    "1. Wczytaj obraz _coins.png_.\n",
    "      Wyświetl go.\n",
    "\n",
    "2. Wyznacz jego histogram znormalizowany oraz oblicz średnią jasność (można do tego wykorzystać histogram) - kod zbliżony do stworzonego wcześniej.\n",
    "\n",
    "3. Zdefiniuj 256-elementowy wektor na współczynniki $\\sigma_B^2$ (funkcja `np.zeros`).\n",
    "\n",
    "4. W pętli po możliwych wartościach progu binaryzacji wyznacz wartość $\\sigma_B^2(k)$ na podstawie zależności (\\ref{eq:thresholding:otsu:sigma_B_2}).\n",
    "      Uwagi:\n",
    "      - wcześniejszego liczenia wartości $P_0(k)$ i $m(k)$ można uniknąć inkrementując wartośc $P_0, m$  w każdej iteracji.\n",
    "      - należy pamiętać, że równanie ma sens tylko dla $0 < P_0(k) < 1$. <br>\n",
    "\n",
    "5. Wyświetl przebieg $\\sigma_B^2(k)$.\n",
    "      Wykorzystaj funkcję `plt.plot`.\n",
    "\n",
    "6. Wyznacz wartość $\\bar{k}$ dla której współczynnik $\\sigma_B^2$ jest maksymalny.\n",
    "\t  Można to zrobić poprzez dodanie instrukcji w pętli (rozwiązanie bardziej elegancie) lub wykorzystując funkcję `max` (rozwiązanie dla leniwych).\n",
    "\t  Uwaga. Proszę pominąć obsługę przypadków niejednoznacznego maksimum.\n",
    "\n",
    "7. Zbinaryzuj obraz wykorzystując otrzymany próg.\n",
    "      Porównaj wyniki z rezultatem binaryzacji \"ręcznej\".\n",
    "\n",
    "8. W OpenCV dostępna jest implementacja metody Otsu - funkcja `cv2.threshold` z parametrem `cv2.THRESH_OTSU`.\n",
    "      Funkcja zwraca zbinaryzowany obraz oraz próg.\n",
    "      Wykonaj binaryzację obrazu _coins.png_ metodą Otsu.\n",
    "      Porównaj wyniki z własną implementacją - powinno wyjść tak samo (tzn. taki sam próg).\n",
    "\n",
    "9. Przeprowadź eksperyment również na obrazie _rice.png_ i _catalogue.png_"
   ]
  },
  {
   "cell_type": "code",
   "execution_count": null,
   "metadata": {
    "ExecuteTime": {
     "end_time": "2024-12-11T05:17:02.930875Z",
     "start_time": "2024-12-11T05:17:02.545724Z"
    },
    "id": "jtjb4nD9hWUa",
    "pycharm": {
     "name": "#%%\n"
    }
   },
   "outputs": [],
   "source": [
    "def otsu(image, ax=plt):\n",
    "    m_g = np.mean(image)\n",
    "    probs = cv2.calcHist([image], [0], None, [256], [0, 256]) / image.size\n",
    "    global_variance = np.sum(np.square(np.arange(0, 256) - m_g) * probs)\n",
    "    P_0 = 0\n",
    "    m = 0\n",
    "    sigma_B = np.zeros(256)\n",
    "\n",
    "    opt_threshold = -1\n",
    "    for thresh, prob in enumerate(probs):\n",
    "        P_0 += prob\n",
    "        m += thresh * prob\n",
    "        if not 0 < P_0 < 1:\n",
    "            continue\n",
    "        sigma_B[thresh] = np.square(m_g * P_0 - m) / (P_0 * (1 - P_0))\n",
    "\n",
    "    opt_threshold = np.argmax(sigma_B)\n",
    "    plot_binarization(image, ax, opt_threshold)\n",
    "    return opt_threshold\n",
    "    \n",
    "\n",
    "def compare_thresholding(image):\n",
    "    fig, (ax1, ax2) = plt.subplots(1, 2, figsize=(9, 5))\n",
    "    ax1.set_title(\"My otsu\")\n",
    "    ax2.set_title(\"Cv2 otsu\")\n",
    "    my_otsu_threshold = otsu(image, ax1)\n",
    "    cv2_otsu_threshold, cv2_otsu_image = cv2.threshold(image, 0, 255, cv2.THRESH_OTSU)\n",
    "    ax2.axis('off')\n",
    "    ax2.imshow(cv2_otsu_image, cmap=cmap)\n",
    "    plt.show()\n",
    "    print(f'cv2 otsu: {cv2_otsu_threshold}\\nmy otsu: {my_otsu_threshold}')\n",
    "\n",
    "rice = cv2.imread('rice.png', cv2.IMREAD_GRAYSCALE)\n",
    "catalogue = cv2.imread('catalogue.png', cv2.IMREAD_GRAYSCALE)\n",
    "\n",
    "compare_thresholding(coins)\n",
    "compare_thresholding(rice)\n",
    "compare_thresholding(catalogue)\n"
   ]
  },
  {
   "cell_type": "markdown",
   "metadata": {
    "collapsed": false,
    "id": "hNW7wGQ2hWUb",
    "jupyter": {
     "outputs_hidden": false
    },
    "pycharm": {
     "name": "#%% md\n"
    }
   },
   "source": [
    "### Binaryzacja lokalna\n",
    "\n",
    "\n",
    "Analiza wyników binaryzacji dla obrazów _rice.png_ i _catalogue.png_ pokazuje, że globalna binaryzacja nie najlepiej działa dla obrazów o niejednorodnym oświetleniu.\n",
    "Dla obu obrazów trudno również wyznaczyć odpowiedni próg \"ręcznie\".\n",
    "\n",
    "Metodą, która pozwala poprawić wyniki binaryzacji, jest binaryzacja lokalna (niekiedy zwana adaptacyjną).\n",
    "W jednym z wariantów polega ona na wyznaczeniu progu osobno dla każdego piksela na podstawie jego otoczenia (tj. własności jego kontekstu, okna).\n",
    "\n",
    "1. Dla uproszczenia zakładamy, że obraz ma rozmiar $256 \\times 256$ pikseli. Przyjmijmy okno analizy o rozmiarze 15 pikseli.\n",
    "\n",
    "2. Najprostsza wersja binaryzacji lokalnej zakłada, że próg binaryzacji dla danego okna to średnia z pikseli w tym oknie.\n",
    "\n",
    "3. Wczytaj obraz _rice.png_. Rozmiar obrazka (`X,Y`) można uzyskać stosując taką składnię: `(X, Y) = obraz.shape`.\n",
    "\n",
    "4. Podstawą algorytmu są dwie pętle `for` iterujące po pikselach obrazka:\n",
    "\n",
    "\n",
    "\tfor j in range(W/2, Y-W/2):\n",
    "\t    for i in range(W/2, X-W/2):\n",
    "\n",
    "5. Wewnątrz pętli należy dla każdego piksela wyciąć jego otoczenie o rozmiarze `W` (operator `:`), wyznaczyć z niego średnią (metoda `mean`) i na jej podstawie dokonać binaryzacji.\n",
    "\n",
    "6. Wyświetl obrazy oryginalny i zbinaryzowany.\n",
    "\n",
    "7. Zaobserwuj rezultaty działania metody dla obrazów _rice.png_ i _catalogue.png_.\n",
    "      Poeksperymentuj z rozmiarem okna (proszę nie przesadzać z rozmiarem, gdyż istotnie wpływa on na czas obliczeń).\n",
    "      Jaka jest podstawowa wada zaimplementowanej metody? (pomijając złożoność obliczeniową).\n",
    "      Proszę się zastanowić jakie jest źródło błędów."
   ]
  },
  {
   "cell_type": "code",
   "execution_count": null,
   "metadata": {
    "ExecuteTime": {
     "end_time": "2024-12-11T05:17:06.625841Z",
     "start_time": "2024-12-11T05:17:02.932321Z"
    },
    "id": "_-R_AQHahWUb"
   },
   "outputs": [],
   "source": [
    "def adaptive_binarization(image, window_size):\n",
    "    X, Y = image.shape\n",
    "    wr = window_size // 2\n",
    "    \n",
    "    binarized = np.copy(image)\n",
    "    for j in range(wr, X - wr):\n",
    "        for i in range(wr, Y - wr):\n",
    "            binarized[i, j] = [0, 255][image[i, j] > np.mean(image[i-wr:i+wr, j-wr:j+wr])]\n",
    "            \n",
    "    return binarized\n",
    "\n",
    "def show_binarizations(func):\n",
    "    fig, axes = plt.subplots(4, 2, figsize=(10, 20))\n",
    "    window_sizes = 15, 30, 45, 60\n",
    "    \n",
    "    for row, size in zip(axes, window_sizes):\n",
    "        for ax in row:\n",
    "            ax.axis('off')\n",
    "            ax.set_title(f\"Window size: {size}\")\n",
    "        row[0].imshow(func(rice, size), cmap=cmap)\n",
    "        row[1].imshow(func(catalogue, size), cmap=cmap)\n",
    "\n",
    "show_binarizations(adaptive_binarization)"
   ]
  },
  {
   "cell_type": "markdown",
   "metadata": {
    "id": "8y22ts_hhWUb"
   },
   "source": [
    "8. Jakość działania binaryzacji lokalnej można poprawić wyznaczając próg za pomocą metody Sauvol'i i Pietikainen'a zaproponowanej w artykule *Adaptive document image binarization*.\n",
    "Wykorzystuje ona, oprócz średniej, informację o odchyleniu standardowym w danym oknie.\n",
    "Próg binaryzacji wyznaczany jest na podstawie zależności:\n",
    "\\begin{equation}\n",
    "\\label{eq:T} \\tag{17} \n",
    "T = srednia \\{1 \\pm k (\\frac{odchStd}{R}-1) \\}\n",
    "\\end{equation}\n",
    "gdzie: $k$ i $R$ to parametry ($R$ zwykle $128$, a $k$ na początek przyjmij $0.15$), $srednia$ i $odchStd$ to odpowiednio średnia i odchylenie standardowe wyliczone w oknie.\n",
    "\n",
    "9. Zaimplementuj algorytm Sauvoli - wykorzystaj do wyznaczenia średniej i odchylenia metody `mean()` oraz `std()` liczone dla wycinka (podobnie jak średnia w poprzedniej metodzie).\n",
    "      \n",
    "10. Uruchom metodę (uwaga - czas obliczeń nie jest krótki). Przeanalizuj wyniki. Zwróć uwagę, że dodanie informacji o odchyleniu standardowym powinno *poprawić* wyniki binaryzacji.\n",
    "      Jeżeli dzieje się inaczej, to najprawdopodobniej implementacja zawiera błąd. \n",
    "     \n",
    "11. Zastanów się nad znaczeniem symbolu $\\pm$ we wzorze na próg. \n",
    "      Kiedy należy zastosować znak +, a kiedy -.\n",
    "\n",
    "12. Porównaj jakość binaryzacji lokalnej metodą Sauvol'i i z progiem na podstawie średniej. \n",
    "      Poeksperymentuj z rozmiarem okna i parametrem k (dla obrazów _rice.png_ i _catalogue.png_)."
   ]
  },
  {
   "cell_type": "code",
   "execution_count": null,
   "metadata": {
    "ExecuteTime": {
     "end_time": "2024-12-11T05:17:18.609768Z",
     "start_time": "2024-12-11T05:17:06.627043Z"
    },
    "id": "O9sj59nghWUc"
   },
   "outputs": [],
   "source": [
    "def sauvola_binarization(img, window_size, k=0.15, R=128, sign=1):\n",
    "    h, w = img.shape\n",
    "    wr = window_size // 2\n",
    "    \n",
    "    binarized = np.copy(img)\n",
    "    for j in range(wr, w - wr):\n",
    "        for i in range(wr, h - wr):\n",
    "            window = img[i-wr:i+wr, j-wr:j+wr]\n",
    "            T = img[i, j] > np.mean(window) * (1 + sign * k * (np.std(window) / R - 1))\n",
    "            binarized[i, j] = [0, 255][T]\n",
    "            \n",
    "    return binarized\n",
    "\n",
    "show_binarizations(sauvola_binarization)"
   ]
  },
  {
   "cell_type": "code",
   "execution_count": null,
   "metadata": {},
   "outputs": [],
   "source": [
    "show_binarizations(lambda img, size: sauvola_binarization(img, size, sign=-1))"
   ]
  },
  {
   "cell_type": "markdown",
   "metadata": {
    "id": "Cay2_8ahhWUc"
   },
   "source": [
    "### Binaryzacja dwuprogowa\n",
    "\n",
    "Binaryzację można przeprowadzić wykorzystując więciej niż jedn próg.\n",
    "Przykładem jest binaryzacja dwuprogowa - wybieramy w ten sposób przedział jasności (piksele w nim zawarte klasyfikujemy jako obiekty).\n",
    "\n",
    "1. Wczytaj obraz _bart.png_. \n",
    "Wyświetl go, wyznacz i wyświetl jego histogram.\n",
    "Oceń, który fragment histogramu odpowiada kolorowi skóry Barta Simpsona.<br>\n",
    "**UWAGA - Aby odczytać wartości pikseli można zapisać obrazek na dysku (`cv2.imwrite('Nazwa.png', Image)`), a następnie odczytać wartościa programem do edycji obrazów, np. *paint*.**<br>"
   ]
  },
  {
   "cell_type": "code",
   "execution_count": null,
   "metadata": {
    "ExecuteTime": {
     "end_time": "2024-12-11T05:18:01.349223Z",
     "start_time": "2024-12-11T05:18:01.109270Z"
    },
    "id": "IvdwjO_mhWUc"
   },
   "outputs": [],
   "source": [
    "bart = cv2.imread('bart.png', cv2.IMREAD_GRAYSCALE)\n",
    "fig, (ax1, ax2) = plt.subplots(1, 2, figsize=(10, 5))\n",
    "hist = cv2.calcHist([bart], [0], None, [256], [0, 256])\n",
    "ax1.imshow(bart)\n",
    "ax1.axis('off')\n",
    "ax2.grid()\n",
    "ax2.plot(hist)"
   ]
  },
  {
   "cell_type": "markdown",
   "metadata": {
    "id": "oM1LY6fihWUc"
   },
   "source": [
    "2. Przeprowadź segmentację na podstawie koloru skóry (binaryzację dwuprogową). \n",
    "      Wykorzystaj przekształcenie obrazów z wartościami True, False na wartości 1,0 i mnożenie obrazów.\n",
    " \n",
    "3. Wynik wyświetl."
   ]
  },
  {
   "cell_type": "code",
   "execution_count": null,
   "metadata": {
    "ExecuteTime": {
     "end_time": "2024-12-11T05:20:48.299840Z",
     "start_time": "2024-12-11T05:20:48.143819Z"
    },
    "id": "Nf4gMs1XhWUd"
   },
   "outputs": [],
   "source": [
    "thresh1 = 190\n",
    "thresh2 = 210\n",
    "bin_bart = np.logical_and(thresh1 < bart, bart < thresh2).astype(np.uint8)\n",
    "\n",
    "plt.imshow(bin_bart)\n",
    "plt.axis('off')"
   ]
  }
 ],
 "metadata": {
  "celltoolbar": "Raw Cell Format",
  "colab": {
   "collapsed_sections": [],
   "provenance": []
  },
  "kernelspec": {
   "display_name": "Python 3 (ipykernel)",
   "language": "python",
   "name": "python3"
  },
  "language_info": {
   "codemirror_mode": {
    "name": "ipython",
    "version": 3
   },
   "file_extension": ".py",
   "mimetype": "text/x-python",
   "name": "python",
   "nbconvert_exporter": "python",
   "pygments_lexer": "ipython3",
   "version": "3.12.2"
  }
 },
 "nbformat": 4,
 "nbformat_minor": 4
}
