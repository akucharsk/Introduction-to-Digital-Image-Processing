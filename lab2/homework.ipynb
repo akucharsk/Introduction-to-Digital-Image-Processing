{
 "cells": [
  {
   "cell_type": "markdown",
   "metadata": {
    "collapsed": false,
    "id": "m5Q2hnDC3NuL",
    "jupyter": {
     "outputs_hidden": false
    }
   },
   "source": [
    "# Zadanie domowe\n",
    "\n",
    "W przypadku obrazów w odcieniach szarości pojedynczy piksel z zakresu [0; 255] reprezentowany jest jako 8-bitowa liczba bez znaku.\n",
    "Pewnym rozszerzeniem analizy sposobu reprezentacji obrazu może być następujący eksperyment.\n",
    "Załóżmy, że z każdego z 8 bitów możemy stworzyć pojedynczy obraz binarny (ang. _bit-plane slicing_).\n",
    "Dla obrazka _100zloty.jpg_ (https://raw.githubusercontent.com/vision-agh/poc_sw/master/02_Point/100zloty.jpg) stwórz 8 obrazów, z których każdy powinien zawierać jedną płaszczyznę bitową.\n",
    "Podpowiedź $-$ warto sprawdzić, jak realizuje się bitowe operacje logiczne.\n",
    "Zastosowanie takiej dekompozycji obrazu pozwala na analizę ,,ważności'' poszczególnych bitów.\n",
    "Jest to użyteczne w kwantyzacji, ale także w kompresji.\n",
    "\n",
    "W drugim etapie zadania proszę spróbować odtworzyć obraz oryginalny z mniejszej liczby obrazów binarnych.\n",
    "Warto zacząć od dwóch najbardziej znaczących bitów, a później dodawać kolejne.\n",
    "Należy utworzyć co najmniej trzy wersje zrekonstruowanych obrazów.\n",
    "Podpowiedź $-$ rekonstrukcja obrazu to mnożenie przez odpowiednią potęgę liczby 2 (przesunięcie bitowe) oraz dodawanie."
   ]
  },
  {
   "cell_type": "code",
   "execution_count": null,
   "metadata": {
    "id": "tsKtFztv4T2l"
   },
   "outputs": [],
   "source": [
    "import cv2\n",
    "import os\n",
    "import requests\n",
    "import matplotlib.pyplot as plt\n",
    "import numpy as np\n",
    "\n",
    "url = 'https://raw.githubusercontent.com/vision-agh/poc_sw/master/02_Point/'\n",
    "fileName = '100zloty.jpg'\n",
    "if not os.path.exists(fileName) :\n",
    "    r = requests.get(url + fileName, allow_redirects=True)\n",
    "    open(fileName, 'wb').write(r.content)"
   ]
  },
  {
   "cell_type": "code",
   "execution_count": null,
   "metadata": {},
   "outputs": [],
   "source": [
    "money = cv2.imread('100zloty.jpg')\n",
    "money = cv2.cvtColor(money, cv2.COLOR_BGR2GRAY)\n",
    "print(money.shape)\n",
    "\n",
    "def plot_image(image, title=\"\", cmap=\"gray\"):\n",
    "    plt.imshow(image, cmap=cmap)\n",
    "    plt.title(title)\n",
    "    plt.axis('off')\n",
    "    plt.show()\n",
    "\n",
    "def subplot_images(images, rows, cols, titles=\"\", cmaps=\"gray\", **kwargs):\n",
    "    n = len(images)\n",
    "    if not isinstance(titles, list):\n",
    "        titles = [titles] * n\n",
    "    if not isinstance(cmaps, list):\n",
    "        cmaps = [cmaps] * n\n",
    "\n",
    "    fig, axes = plt.subplots(rows, cols, **kwargs)\n",
    "    if rows == 1:\n",
    "        axes = [axes]\n",
    "    for row in range(rows):\n",
    "        for col in range(cols):\n",
    "            idx = row * cols + col\n",
    "            axes[row][col].imshow(images[idx], cmap=cmaps[idx])\n",
    "            axes[row][col].set_title(titles[idx])\n",
    "            axes[row][col].axis('off')\n",
    "    plt.show()\n",
    "\n",
    "plot_image(money)"
   ]
  },
  {
   "cell_type": "code",
   "execution_count": null,
   "metadata": {},
   "outputs": [],
   "source": [
    "bit_partitions = []\n",
    "\n",
    "for i in range(8):\n",
    "    bit = 2 ** i\n",
    "    and_image = cv2.bitwise_and(money, bit) / bit\n",
    "    subplot_images((money, and_image), 1, 2, cmaps=\"gray\", figsize=(10, 20))\n",
    "\n",
    "    bit_partitions.append(and_image)"
   ]
  },
  {
   "cell_type": "code",
   "execution_count": null,
   "metadata": {},
   "outputs": [],
   "source": []
  },
  {
   "cell_type": "code",
   "execution_count": null,
   "metadata": {},
   "outputs": [],
   "source": [
    "leading_bit_img = cv2.add(bit_partitions[-1] * 128, bit_partitions[-2] * 64).astype(np.uint8)\n",
    "planes = 2\n",
    "mktitles = lambda num: [f\"{num - 1}a: Original\", f\"{num - 1}b: merged {num} leading bit planes\", f\"Subtraction {num - 1}a - {num - 1}b\"]\n",
    "\n",
    "cmap = \"inferno\"\n",
    "\n",
    "figsize = 15, 18\n",
    "\n",
    "subtracted = cv2.subtract(money, leading_bit_img).astype(np.uint8)\n",
    "subplot_images((money, leading_bit_img, subtracted), 1, 3, cmaps=cmap, titles=mktitles(planes), figsize=figsize)\n",
    "\n",
    "for i in range(5, 1, -1):\n",
    "    planes += 1\n",
    "    leading_bit_img = cv2.add(leading_bit_img, np.multiply(bit_partitions[i], 2 ** i).astype(np.uint8)).astype(np.uint8)\n",
    "    subtracted = cv2.subtract(money, leading_bit_img)\n",
    "    subplot_images((money, leading_bit_img, subtracted), 1, 3, cmaps=cmap, titles=mktitles(planes), figsize=figsize)"
   ]
  },
  {
   "cell_type": "code",
   "execution_count": null,
   "metadata": {},
   "outputs": [],
   "source": []
  },
  {
   "cell_type": "code",
   "execution_count": null,
   "metadata": {},
   "outputs": [],
   "source": []
  }
 ],
 "metadata": {
  "colab": {
   "provenance": []
  },
  "kernelspec": {
   "display_name": "Python 3 (ipykernel)",
   "language": "python",
   "name": "python3"
  },
  "language_info": {
   "codemirror_mode": {
    "name": "ipython",
    "version": 3
   },
   "file_extension": ".py",
   "mimetype": "text/x-python",
   "name": "python",
   "nbconvert_exporter": "python",
   "pygments_lexer": "ipython3",
   "version": "3.11.10"
  }
 },
 "nbformat": 4,
 "nbformat_minor": 4
}
