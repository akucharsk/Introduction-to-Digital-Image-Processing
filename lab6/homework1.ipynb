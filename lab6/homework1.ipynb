{
 "cells": [
  {
   "cell_type": "markdown",
   "metadata": {
    "collapsed": true,
    "id": "ofg6rTf3uvP0",
    "jupyter": {
     "outputs_hidden": true
    },
    "pycharm": {
     "name": "#%% md\n"
    }
   },
   "source": [
    "# Mediana dla obrazu kolorowego\n",
    "\n",
    "Idea filtracji medianowej jest dość prosta dla obrazów w odcieniach szarości.\n",
    "Dla obrazów kolorowych trudniej jest określić kryterium wg. którego szeregowane będą wartości, z których wyznaczana będzie mediana.\n",
    "\n",
    "Jedną z możliwości wykonania filtracji medianowej dla obrazów kolorowych (na podstawie *The Image Processing Handbook*, J. Russ) jest wykorzystanie następującej definicji mediany:\n",
    "``mediana to ten piksel z otoczenia, którego odległość do innych pikseli z otoczenia jest najmniejsza''.\n",
    "Jako miarę odległości wykorzystujemy pierwiastek z sumy kwadratów różnic poszczególnych składowych R,G,B.\n",
    "Zatem odległość między dwoma pikselami wyraża się wzorem:\n",
    "\\begin{equation}\n",
    "dRGB = \\sqrt{(R_1-R_2)^2+(G_1-G_2)^2+(B_1-B_2)^2}\n",
    "\\end{equation}\n",
    "\n",
    "Warto zwrócić uwagę, że istnieje wiele możliwości zdefiniowania porównywania wielkości wektorowych (jeden piksel to wektor o trzech składowych).\n",
    "Można zamiast odległości wykorzystać kąt albo połączyć oba parametry.\n",
    "Ponadto istnieje możliwość dodania do wektora dodatkowych składowych - tak aby lepiej opisać piksel.\n",
    "\n",
    "Celem zadania jest implementacja opisanego algorytmu.\n",
    "\n",
    "1. Wczytaj obraz *lenaRGBSzum.png* (dostępny na git).\n",
    "2. Zdefiniuj rozmiar okna.\n",
    "3. Wykonaj pętle po pikselach, dla których okno jest zdefiniowane (pomiń brzeg obrazu).\n",
    "4. Dla każdego piksela pobierz okno o właściwym rozmiarze.\n",
    "5. Wykonaj pętle po oknie, wewnątrz której obliczona zostanie suma odległości.\n",
    "    - Obliczanie różnicy: `window - window[rowWin, colWin]`.\n",
    "    - Obliczanie kwadratów: `np.square`.\n",
    "    - Obliczanie pierwiastka: `np.sqrt`.\n",
    "    - Obliczanie sumy metodą `.sum`.\n",
    "6. Po obliczeniu macierzy odległości wyznacz argument elementu minimalnego.\n",
    "Wykorzystaj funkcję `np.argmin`.\n",
    "Argument funkcji zostanie spłaszczony, jeśli ma więcej niż jeden wymiar.\n",
    "Aby przekonwertować spłaszczony indeks na indeks macierzy wykorzystaj funkcję `np.unravel_index`.\n",
    "7. Przypisz odpowiedni wektor wartości do piksela obrazu wynikowego.\n",
    "8. Wyświetl obraz oryginalny i przefiltrowany.\n",
    "9. Przeprowadź dwa eksperymenty - dla obrazu _lenaRGB_ oraz _lenaRGBszum_."
   ]
  },
  {
   "cell_type": "code",
   "execution_count": null,
   "metadata": {
    "id": "scIf0MPVuvP7",
    "pycharm": {
     "name": "#%% Mediana dla obrazu kolorowego\n"
    }
   },
   "outputs": [],
   "source": [
    "import cv2\n",
    "import os\n",
    "import requests\n",
    "from matplotlib import pyplot as plt\n",
    "import numpy as np\n",
    "from scipy import signal\n",
    "\n",
    "url = 'https://raw.githubusercontent.com/vision-agh/poc_sw/master/06_Context/'\n",
    "\n",
    "fileNames = [\"lenaRGB.png\", \"lenaRGBSzum.png\"]\n",
    "for fileName in fileNames:\n",
    "  if not os.path.exists(fileName):\n",
    "      r = requests.get(url + fileName, allow_redirects=True)\n",
    "      open(fileName, 'wb').write(r.content)"
   ]
  },
  {
   "cell_type": "code",
   "execution_count": null,
   "metadata": {},
   "outputs": [],
   "source": [
    "def subplot_image(ax, image, title=\"\", **kwargs):\n",
    "    ax.set_title(title)\n",
    "    ax.axis(\"off\")\n",
    "    ax.imshow(image, cmap=kwargs.get(\"cmap\", \"gray\"))\n",
    "\n",
    "def plot_image(image, title=\"\", **kwargs):\n",
    "    plt.title(title)\n",
    "    plt.axis(\"off\")\n",
    "    plt.imshow(image, cmap=kwargs.get(\"cmap\", \"gray\"))\n",
    "    plt.show()\n",
    "\n",
    "lena_szum = cv2.cvtColor(cv2.imread(\"lenaRGBSzum.png\"), cv2.COLOR_BGR2RGB)\n",
    "lena = cv2.cvtColor(cv2.imread(\"lenaRGB.png\"), cv2.COLOR_BGR2RGB)"
   ]
  },
  {
   "cell_type": "code",
   "execution_count": null,
   "metadata": {},
   "outputs": [],
   "source": [
    "class Kernel:\n",
    "    def __init__(self, window):\n",
    "        self.window = window.copy()\n",
    "        self.H, self.W, self.C = self.window.shape\n",
    "\n",
    "    def sub(self, color):\n",
    "        window = self.window.copy().astype(np.float64)\n",
    "        for chan in range(self.C):\n",
    "            window[:, :, chan] -= color[chan]\n",
    "        return window\n",
    "\n",
    "    def median(self):\n",
    "        self.window = self.window.astype(np.float64)\n",
    "        dst_matrix = np.zeros((self.H, self.W))\n",
    "        for h in range(self.H):\n",
    "            for w in range(self.W):\n",
    "                matrix = np.abs(np.square(self.sub(self.window[h, w])))\n",
    "                dst = np.sqrt(np.sum(matrix, axis=2)).sum()\n",
    "                dst_matrix[h, w] = dst\n",
    "        return self.window[np.unravel_index(np.argmin(dst_matrix), (self.H, self.W))]\n",
    "\n",
    "\n",
    "def color_median_conv(image, kernel_size):\n",
    "    half = kernel_size // 2\n",
    "    H, W, C = image.shape\n",
    "    result = np.zeros((H - 2 * half, W - 2 * half, C))\n",
    "    for row in range(half, H - half):\n",
    "        for col in range(half, W - half):\n",
    "            kernel = Kernel(image[row - half:row + half + 1, col - half:col + half + 1])\n",
    "            result[row - half, col - half] = kernel.median()\n",
    "\n",
    "    return result\n",
    "\n",
    "\n",
    "def compare_images(\n",
    "        left_img, \n",
    "        mid_img, \n",
    "        left_title=\"Original\", \n",
    "        mid_title=\"\", \n",
    "        **kwargs\n",
    "    ):\n",
    "\n",
    "    left_img = left_img.astype(np.int16)\n",
    "    mid_img = mid_img.astype(np.int16)\n",
    "    _, (left, mid) = plt.subplots(1, 2, figsize=(10, 5))\n",
    "    subplot_image(left, left_img, left_title)\n",
    "    subplot_image(mid, mid_img, mid_title)\n",
    "    plt.show()\n",
    "\n",
    "\n",
    "compare_images(lena_szum, color_median_conv(lena_szum, 3), mid_title=\"After median conv 3x3\")\n",
    "compare_images(lena_szum, color_median_conv(lena_szum, 5), mid_title=\"After median conv 5x5\")\n",
    "compare_images(lena_szum, color_median_conv(lena_szum, 7), mid_title=\"After median conv 7x7\")"
   ]
  },
  {
   "cell_type": "code",
   "execution_count": null,
   "metadata": {},
   "outputs": [],
   "source": [
    "compare_images(lena, color_median_conv(lena, 3), mid_title=\"After median conv 3x3\")\n",
    "compare_images(lena, color_median_conv(lena, 5), mid_title=\"After median conv 5x5\")\n",
    "compare_images(lena, color_median_conv(lena, 7), mid_title=\"After median conv 7x7\")"
   ]
  },
  {
   "cell_type": "code",
   "execution_count": null,
   "metadata": {},
   "outputs": [],
   "source": []
  }
 ],
 "metadata": {
  "colab": {
   "collapsed_sections": [],
   "provenance": []
  },
  "kernelspec": {
   "display_name": "Python 3 (ipykernel)",
   "language": "python",
   "name": "python3"
  },
  "language_info": {
   "codemirror_mode": {
    "name": "ipython",
    "version": 3
   },
   "file_extension": ".py",
   "mimetype": "text/x-python",
   "name": "python",
   "nbconvert_exporter": "python",
   "pygments_lexer": "ipython3",
   "version": "3.11.10"
  }
 },
 "nbformat": 4,
 "nbformat_minor": 4
}
